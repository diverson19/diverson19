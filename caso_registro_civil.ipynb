{
  "cells": [
    {
      "cell_type": "markdown",
      "metadata": {
        "id": "view-in-github",
        "colab_type": "text"
      },
      "source": [
        "<a href=\"https://colab.research.google.com/github/diverson19/diverson19/blob/main/caso_registro_civil.ipynb\" target=\"_parent\"><img src=\"https://colab.research.google.com/assets/colab-badge.svg\" alt=\"Open In Colab\"/></a>"
      ]
    },
    {
      "cell_type": "code",
      "execution_count": null,
      "metadata": {
        "colab": {
          "background_save": true
        },
        "id": "7YmTY3JtwHda"
      },
      "outputs": [],
      "source": [
        "personas = []\n",
        "\n",
        "while True:\n",
        "  print(\"----------------M E N U---------------\")\n",
        "  print(\"1 - Registrar persona\")\n",
        "  print(\"2 - Buscar persona\")\n",
        "  print(\"3 - Imprimir certificados\")\n",
        "  print(\"4 - Eliminar persona\")\n",
        "  print(\"5 - Salir\")\n",
        "\n",
        "  op = int(input(\"Elige la opción de tu preferencia: \"))\n",
        "\n",
        "  if op == 1:\n",
        "    rut = input(\"Ingrese su RUT (formato XX.XXX.XXX-X): \")\n",
        "    while len(rut) < 10:\n",
        "      print(\"Debes ingresar un RUT con un formato válido\")\n",
        "      rut = input(\"Ingrese su RUT: \")\n",
        "\n",
        "    personas.append([rut])\n",
        "\n",
        "    nombre = input(\"Ingrese su nombre: \")\n",
        "    while len(nombre) < 8:\n",
        "      print(\"Debes ingresar un nombre con al menos 8 caracteres\")\n",
        "      nombre = input(\"Ingrese su nombre: \")\n",
        "\n",
        "    personas[-1].append(nombre)\n",
        "\n",
        "    edad = int(input(\"Ingrese su edad: \"))\n",
        "    while edad <= 0:\n",
        "      print(\"La edad debe ser mayor o igual a cero\")\n",
        "      edad = int(input(\"Ingrese su edad: \"))\n",
        "\n",
        "    personas[-1].append(edad)\n",
        "\n",
        "    pais = input(\"Ingrese su país de nacimiento: \")\n",
        "    personas[-1].append(pais)\n",
        "\n",
        "    ciudad = input(\"Ingrese su ciudad de nacimiento: \")\n",
        "    personas[-1].append(ciudad)\n",
        "    print(\"\")\n",
        "    print(\"---Datos de la persona----\")\n",
        "    print(\"RUT: \", personas[-1][0])\n",
        "    print(\"NOMBRE: \", personas[-1][1])\n",
        "    print(\"EDAD: \", personas[-1][2])\n",
        "    print(\"PAIS: \", personas[-1][3])\n",
        "    print(\"CIUDAD: \", personas[-1][4])\n",
        "    print(\"-------------------------\")\n",
        "\n",
        "  elif op == 2:\n",
        "    rut_buscado = input(\"Ingrese el RUT de la persona que desea buscar: \")\n",
        "    for persona in personas:\n",
        "      if persona[0] == rut_buscado:\n",
        "        print(\"-----------Datos de la persona buscada-------------\")\n",
        "        print(\"RUT: \", persona[0])\n",
        "        print(\"NOMBRE: \", persona[1])\n",
        "        print(\"EDAD: \", persona[2])\n",
        "        print(\"PAIS: \", persona[3])\n",
        "        print(\"CIUDAD: \", persona[4])\n",
        "        print(\"-------------------------------------------\")\n",
        "        break\n",
        "    else:\n",
        "      print(\"No se encontró a ninguna persona con ese RUT\")\n",
        "\n",
        "  elif op == 4:\n",
        "    rut2 = input(\"Ingrese el RUT de la persona que quiere eliminar: \")\n",
        "    nombre2 = input(\"Ingrese el nombre de la persona a eliminar: \")\n",
        "    edad2 = input(\"Ingrese la edad de la persona a eliminar: \")\n",
        "\n",
        "    index_a_eliminar = -1\n",
        "    for i, persona in enumerate(personas):\n",
        "      if persona[0] == rut2 and persona[1] == nombre2 and str(persona[2]) == edad2:\n",
        "        index_a_eliminar = i\n",
        "        break\n",
        "\n",
        "    if index_a_eliminar != -1:\n",
        "      personas.pop(index_a_eliminar)\n",
        "      print(\"Persona eliminada de forma exitosa\")\n",
        "    else:\n",
        "      print(\"No se encontró a ninguna persona con esos datos\")\n",
        "\n",
        "  elif op == 5:\n",
        "    print(\"Vete a la chucha wn...\")\n",
        "    break\n",
        "\n",
        "  else:\n",
        "    print(\"Elige una opción válida\")\n"
      ]
    }
  ],
  "metadata": {
    "colab": {
      "provenance": [],
      "authorship_tag": "ABX9TyNGd8HejrhCcV/oHA6jtnnM",
      "include_colab_link": true
    },
    "kernelspec": {
      "display_name": "Python 3",
      "name": "python3"
    },
    "language_info": {
      "name": "python"
    }
  },
  "nbformat": 4,
  "nbformat_minor": 0
}